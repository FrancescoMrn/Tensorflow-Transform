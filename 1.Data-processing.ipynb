{
 "cells": [
  {
   "cell_type": "markdown",
   "id": "previous-communication",
   "metadata": {},
   "source": [
    "# House Price - Data Processing with TF.Transform\n",
    "\n",
    "This notebook will report all the required code to create and export a data processing pipeline using Apache Beam and TF.Transform.\n",
    "\n",
    "Whenever possible the notebook will be coded to support cloud run on GCP and local run."
   ]
  },
  {
   "cell_type": "markdown",
   "id": "entitled-heart",
   "metadata": {},
   "source": [
    "## Set global parameters"
   ]
  },
  {
   "cell_type": "code",
   "execution_count": 1,
   "id": "novel-philosophy",
   "metadata": {},
   "outputs": [],
   "source": [
    "PROJECT = 'gcp-playground' # change to your project_Id\n",
    "BUCKET = 'gcs-cloudml'     # change to your bucket name\n",
    "REGION = 'region'          # change to your region\n",
    "ROOT_DIR = 'houseprice_tft'# directory where the output is stored locally or on GCS\n",
    "\n",
    "RUN_LOCAL = True # if True, the DirectRunner is used, else DataflowRunner"
   ]
  },
  {
   "cell_type": "markdown",
   "id": "challenging-retirement",
   "metadata": {},
   "source": [
    "## Import required modules"
   ]
  },
  {
   "cell_type": "code",
   "execution_count": 2,
   "id": "opening-belarus",
   "metadata": {},
   "outputs": [],
   "source": [
    "import os\n",
    "\n",
    "os.environ['PROJECT'] = PROJECT\n",
    "os.environ['BUCKET'] = BUCKET\n",
    "os.environ['REGION'] = REGION\n",
    "os.environ['ROOT_DIR'] = ROOT_DIR\n",
    "os.environ['RUN_LOCAL'] = str(RUN_LOCAL)"
   ]
  },
  {
   "cell_type": "code",
   "execution_count": 3,
   "id": "attractive-father",
   "metadata": {},
   "outputs": [],
   "source": [
    "import os\n",
    "import pandas as pd\n",
    "import tensorflow as tf\n",
    "import apache_beam as beam\n",
    "import tensorflow_transform as tft\n",
    "\n",
    "from tensorflow_transform.beam import impl\n",
    "from tensorflow_transform.tf_metadata import dataset_schema\n",
    "from tensorflow_transform.tf_metadata import dataset_metadata\n",
    "from tensorflow_transform.coders import example_proto_coder\n",
    "from tensorflow_transform.tf_metadata import metadata_io\n",
    "from tensorflow_transform.beam.tft_beam_io import transform_fn_io\n",
    "\n",
    "#Apache Beam\n",
    "import apache_beam as beam\n",
    "from apache_beam.dataframe.io import read_csv\n",
    "from apache_beam.dataframe.convert import to_dataframe\n",
    "from apache_beam.dataframe.convert import to_pcollection"
   ]
  },
  {
   "cell_type": "raw",
   "id": "disturbed-command",
   "metadata": {},
   "source": [
    "from tensorflow_transform.tf_metadata.schema_utils import schema_from_feature_spec as Schema"
   ]
  },
  {
   "cell_type": "markdown",
   "id": "rough-supervisor",
   "metadata": {},
   "source": [
    "## Create raw data metadata"
   ]
  },
  {
   "cell_type": "code",
   "execution_count": 5,
   "id": "wooden-location",
   "metadata": {},
   "outputs": [],
   "source": [
    "CATEGORICAL_FEATURE_NAMES = ['POSTED_BY', 'UNDER_CONSTRUCTION', 'RERA', \n",
    "                             'BHK_OR_RK', 'READY_TO_MOVE', 'RESALE', \n",
    "                             'ADDRESS']\n",
    "CATEGORICAL_FEATURE_MAX_VALUES = [24]\n",
    "\n",
    "NUMERIC_FEATURE_NAMES = ['BHK_NO.',  'SQUARE_FT', 'LONGITUDE','LATITUDE']\n",
    "BUCKET_FEATURE_BUCKET_COUNT = [100]\n",
    "\n",
    "TARGET_FEATURE_NAME = \"TARGET(PRICE_IN_LACS)\""
   ]
  },
  {
   "cell_type": "code",
   "execution_count": 6,
   "id": "moral-dietary",
   "metadata": {},
   "outputs": [],
   "source": [
    "def create_raw_metadata():  \n",
    "    \n",
    "    raw_data_schema = {}\n",
    "    \n",
    " \n",
    "    # target feature schema\n",
    "    raw_data_schema[TARGET_FEATURE_NAME]= dataset_schema.ColumnSchema(\n",
    "        tf.float32, [], dataset_schema.FixedColumnRepresentation())\n",
    "    \n",
    "    # categorical features schema\n",
    "    raw_data_schema.update({ column_name : dataset_schema.ColumnSchema(\n",
    "        tf.string, [], dataset_schema.FixedColumnRepresentation())\n",
    "                            for column_name in CATEGORICAL_FEATURE_NAMES})\n",
    "    \n",
    "    # numerical features schema\n",
    "    raw_data_schema.update({ column_name : dataset_schema.ColumnSchema(\n",
    "        tf.float32, [], dataset_schema.FixedColumnRepresentation())\n",
    "                            for column_name in NUMERIC_FEATURE_NAMES})\n",
    "    \n",
    "    # create dataset_metadata given raw_schema\n",
    "    raw_metadata = dataset_metadata.DatasetMetadata(\n",
    "        dataset_schema.Schema(raw_data_schema))\n",
    "    \n",
    "    return raw_metadata"
   ]
  },
  {
   "cell_type": "raw",
   "id": "medical-arthur",
   "metadata": {},
   "source": [
    "print(create_raw_metadata().schema)"
   ]
  },
  {
   "cell_type": "markdown",
   "id": "therapeutic-fundamental",
   "metadata": {},
   "source": [
    "## Read data"
   ]
  },
  {
   "cell_type": "code",
   "execution_count": 8,
   "id": "divided-allocation",
   "metadata": {},
   "outputs": [],
   "source": [
    "def raw_ingestion(raw_data):\n",
    "    \"\"\"\n",
    "    Raw data manipulation in pandas\n",
    "    \"\"\"\n",
    "    print(raw_data)\n",
    "    raw_data[\"ADDRESS\"] = raw_data[\"ADDRESS\"].split(\",\")[-1]\n",
    "    return raw_data"
   ]
  },
  {
   "cell_type": "raw",
   "id": "super-supervisor",
   "metadata": {},
   "source": [
    "    lines = (\n",
    "        pipeline\n",
    "        | '{} - Read Data from csv file'.format(step) >> beam.io.ReadFromText(input_data))\n",
    "        \n",
    "    words = (\n",
    "        lines\n",
    "        | 'Split' >> beam.FlatMap(\n",
    "            lambda line: re.findall(r'[\\w]+', line)).with_output_types(str)\n",
    "        # Map to Row objects to generate a schema suitable for conversion\n",
    "        # to a dataframe.\n",
    "        | 'ToRows' >> beam.Map(lambda word: beam.Row(word=word)))\n",
    "        \n",
    "     # Convert into pandas.DataFrame\n",
    "    raw_data = to_dataframe(words)\n",
    "    ingested = raw_ingestion(raw_data)"
   ]
  },
  {
   "cell_type": "code",
   "execution_count": 9,
   "id": "union-notice",
   "metadata": {},
   "outputs": [],
   "source": [
    "def read_from_csv(pipeline, input_data, step):\n",
    "    \n",
    "    raw = ( pipeline | '{} - Read Data from csv file'.format(step) >> beam.io.ReadFromText(input_data))\n",
    "    \n",
    "    print(raw)\n",
    "    # Perform ingestion with pandas function\n",
    "    ingested =  raw_ingestion(raw)\n",
    "    # Deferred DataFrames can also be converted back to schema'd PCollections\n",
    "    raw_beam = to_pcollection(ingested, include_indexes=True)\n",
    "    \n",
    "    raw_metadata = create_raw_metadata()\n",
    "    raw_dataset = (raw_beam, raw_metadata)\n",
    "    return raw_dataset"
   ]
  },
  {
   "cell_type": "markdown",
   "id": "dynamic-complex",
   "metadata": {},
   "source": [
    "## Transformation Pipeline"
   ]
  },
  {
   "cell_type": "code",
   "execution_count": 10,
   "id": "religious-budget",
   "metadata": {},
   "outputs": [],
   "source": [
    "def run_transformation_pipeline(args):\n",
    "    \n",
    "    pipeline_options = beam.pipeline.PipelineOptions(flags=[], **args)\n",
    "    \n",
    "    runner = args['runner']\n",
    "    transformed_data_location = args['transformed_data_location']\n",
    "    transform_artefact_location = args['transform_artefact_location']\n",
    "    temporary_dir = args['temporary_dir']\n",
    "    debug = args['debug']\n",
    "    \n",
    "    print(\"Sink transformed data files location: {}\".format(transformed_data_location))\n",
    "    print(\"Sink transform artefact location: {}\".format(transform_artefact_location))\n",
    "    print(\"Temporary directory: {}\".format(temporary_dir))\n",
    "    print(\"Runner: {}\".format(runner))\n",
    "    print(\"Debug enabled: {}\".format(debug))\n",
    "\n",
    "    with beam.Pipeline(runner, options=pipeline_options) as pipeline:\n",
    "        with impl.Context(temporary_dir):\n",
    "            \n",
    "            # Preprocess train data\n",
    "            step = 'train'\n",
    "            # Read raw train data from BQ\n",
    "            raw_dataset = read_from_csv(pipeline,\"data/train.csv\", step)"
   ]
  },
  {
   "cell_type": "markdown",
   "id": "republican-cleaners",
   "metadata": {},
   "source": [
    "### Pipeline parameters"
   ]
  },
  {
   "cell_type": "code",
   "execution_count": 11,
   "id": "solar-union",
   "metadata": {},
   "outputs": [
    {
     "name": "stdout",
     "output_type": "stream",
     "text": [
      "Overwriting requirements.txt\n"
     ]
    }
   ],
   "source": [
    "%%writefile requirements.txt\n",
    "tensorflow-transform==0.8.0"
   ]
  },
  {
   "cell_type": "code",
   "execution_count": 12,
   "id": "thorough-bishop",
   "metadata": {},
   "outputs": [],
   "source": [
    "from datetime import datetime\n",
    "\n",
    "\n",
    "OUTPUT_DIR = ROOT_DIR if RUN_LOCAL==True else \"gs://{}/{}\".format(BUCKET,ROOT_DIR)\n",
    "TRANSFORM_ARTEFACTS_DIR = os.path.join(OUTPUT_DIR,'transform')\n",
    "TRANSFORMED_DATA_DIR = os.path.join(OUTPUT_DIR,'transformed')\n",
    "TEMP_DIR = os.path.join(OUTPUT_DIR, 'tmp')\n",
    "\n",
    "runner = 'DirectRunner' if RUN_LOCAL == True else 'DataflowRunner'\n",
    "\n",
    "job_name = 'preprocess-house-price-data-tft-{}'.format(datetime.utcnow().strftime('%y%m%d-%H%M%S'))\n",
    "\n",
    "args = {\n",
    "    \n",
    "    'job_name': job_name,\n",
    "    'runner': runner,\n",
    "    'transformed_data_location':  TRANSFORMED_DATA_DIR,\n",
    "    'transform_artefact_location':  TRANSFORM_ARTEFACTS_DIR,\n",
    "    'temporary_dir': TEMP_DIR,\n",
    "    'debug':False,\n",
    "    \n",
    "    'project': PROJECT,\n",
    "    'region': REGION,\n",
    "    'staging_location': os.path.join(OUTPUT_DIR, 'staging'),\n",
    "    'temp_location': os.path.join(OUTPUT_DIR, 'tmp'),\n",
    "    'worker_machine_type': 'n1-standard-1',\n",
    "    'requirements_file': 'requirements.txt',\n",
    "}"
   ]
  },
  {
   "cell_type": "markdown",
   "id": "adaptive-beginning",
   "metadata": {},
   "source": [
    "### Runner"
   ]
  },
  {
   "cell_type": "code",
   "execution_count": 13,
   "id": "bronze-reform",
   "metadata": {},
   "outputs": [
    {
     "name": "stderr",
     "output_type": "stream",
     "text": [
      "WARNING:apache_beam.runners.interactive.interactive_environment:Dependencies required for Interactive Beam PCollection visualization are not available, please use: `pip install apache-beam[interactive]` to install necessary dependencies to enable all data visualization features.\n"
     ]
    },
    {
     "name": "stdout",
     "output_type": "stream",
     "text": [
      "Launching DirectRunner job preprocess-house-price-data-tft-210122-154508 ... hang on\n",
      "\n",
      "Sink transformed data files location: houseprice_tft/transformed\n",
      "Sink transform artefact location: houseprice_tft/transform\n",
      "Temporary directory: houseprice_tft/tmp\n",
      "Runner: DirectRunner\n",
      "Debug enabled: False\n"
     ]
    },
    {
     "data": {
      "application/javascript": [
       "\n",
       "        if (typeof window.interactive_beam_jquery == 'undefined') {\n",
       "          var jqueryScript = document.createElement('script');\n",
       "          jqueryScript.src = 'https://code.jquery.com/jquery-3.4.1.slim.min.js';\n",
       "          jqueryScript.type = 'text/javascript';\n",
       "          jqueryScript.onload = function() {\n",
       "            var datatableScript = document.createElement('script');\n",
       "            datatableScript.src = 'https://cdn.datatables.net/1.10.20/js/jquery.dataTables.min.js';\n",
       "            datatableScript.type = 'text/javascript';\n",
       "            datatableScript.onload = function() {\n",
       "              window.interactive_beam_jquery = jQuery.noConflict(true);\n",
       "              window.interactive_beam_jquery(document).ready(function($){\n",
       "                \n",
       "              });\n",
       "            }\n",
       "            document.head.appendChild(datatableScript);\n",
       "          };\n",
       "          document.head.appendChild(jqueryScript);\n",
       "        } else {\n",
       "          window.interactive_beam_jquery(document).ready(function($){\n",
       "            \n",
       "          });\n",
       "        }"
      ]
     },
     "metadata": {},
     "output_type": "display_data"
    },
    {
     "name": "stdout",
     "output_type": "stream",
     "text": [
      "PCollection[train - Read Data from csv file/Read/SDFBoundedSourceReader/ParDo(SDFBoundedSourceDoFn).None]\n",
      "PCollection[train - Read Data from csv file/Read/SDFBoundedSourceReader/ParDo(SDFBoundedSourceDoFn).None]\n"
     ]
    },
    {
     "ename": "TypeError",
     "evalue": "'PCollection' object is not subscriptable",
     "output_type": "error",
     "traceback": [
      "\u001b[0;31m---------------------------------------------------------------------------\u001b[0m",
      "\u001b[0;31mTypeError\u001b[0m                                 Traceback (most recent call last)",
      "\u001b[0;32m<ipython-input-13-87e3184b28df>\u001b[0m in \u001b[0;36m<module>\u001b[0;34m\u001b[0m\n\u001b[1;32m      9\u001b[0m \u001b[0mprint\u001b[0m\u001b[0;34m(\u001b[0m\u001b[0;34m'Launching {} job {} ... hang on'\u001b[0m\u001b[0;34m.\u001b[0m\u001b[0mformat\u001b[0m\u001b[0;34m(\u001b[0m\u001b[0mrunner\u001b[0m\u001b[0;34m,\u001b[0m \u001b[0mjob_name\u001b[0m\u001b[0;34m)\u001b[0m\u001b[0;34m)\u001b[0m\u001b[0;34m\u001b[0m\u001b[0;34m\u001b[0m\u001b[0m\n\u001b[1;32m     10\u001b[0m \u001b[0mprint\u001b[0m\u001b[0;34m(\u001b[0m\u001b[0;34m\"\"\u001b[0m\u001b[0;34m)\u001b[0m\u001b[0;34m\u001b[0m\u001b[0;34m\u001b[0m\u001b[0m\n\u001b[0;32m---> 11\u001b[0;31m \u001b[0mrun_transformation_pipeline\u001b[0m\u001b[0;34m(\u001b[0m\u001b[0margs\u001b[0m\u001b[0;34m)\u001b[0m\u001b[0;34m\u001b[0m\u001b[0;34m\u001b[0m\u001b[0m\n\u001b[0m\u001b[1;32m     12\u001b[0m \u001b[0mprint\u001b[0m\u001b[0;34m(\u001b[0m\u001b[0;34m\"Done!\"\u001b[0m\u001b[0;34m)\u001b[0m\u001b[0;34m\u001b[0m\u001b[0;34m\u001b[0m\u001b[0m\n",
      "\u001b[0;32m<ipython-input-10-24e813f05f92>\u001b[0m in \u001b[0;36mrun_transformation_pipeline\u001b[0;34m(args)\u001b[0m\n\u001b[1;32m     21\u001b[0m             \u001b[0mstep\u001b[0m \u001b[0;34m=\u001b[0m \u001b[0;34m'train'\u001b[0m\u001b[0;34m\u001b[0m\u001b[0;34m\u001b[0m\u001b[0m\n\u001b[1;32m     22\u001b[0m             \u001b[0;31m# Read raw train data from BQ\u001b[0m\u001b[0;34m\u001b[0m\u001b[0;34m\u001b[0m\u001b[0;34m\u001b[0m\u001b[0m\n\u001b[0;32m---> 23\u001b[0;31m             \u001b[0mraw_dataset\u001b[0m \u001b[0;34m=\u001b[0m \u001b[0mread_from_csv\u001b[0m\u001b[0;34m(\u001b[0m\u001b[0mpipeline\u001b[0m\u001b[0;34m,\u001b[0m\u001b[0;34m\"data/train.csv\"\u001b[0m\u001b[0;34m,\u001b[0m \u001b[0mstep\u001b[0m\u001b[0;34m)\u001b[0m\u001b[0;34m\u001b[0m\u001b[0;34m\u001b[0m\u001b[0m\n\u001b[0m",
      "\u001b[0;32m<ipython-input-9-b41d3eab705d>\u001b[0m in \u001b[0;36mread_from_csv\u001b[0;34m(pipeline, input_data, step)\u001b[0m\n\u001b[1;32m      5\u001b[0m     \u001b[0mprint\u001b[0m\u001b[0;34m(\u001b[0m\u001b[0mraw\u001b[0m\u001b[0;34m)\u001b[0m\u001b[0;34m\u001b[0m\u001b[0;34m\u001b[0m\u001b[0m\n\u001b[1;32m      6\u001b[0m     \u001b[0;31m# Perform ingestion with pandas function\u001b[0m\u001b[0;34m\u001b[0m\u001b[0;34m\u001b[0m\u001b[0;34m\u001b[0m\u001b[0m\n\u001b[0;32m----> 7\u001b[0;31m     \u001b[0mingested\u001b[0m \u001b[0;34m=\u001b[0m  \u001b[0mraw_ingestion\u001b[0m\u001b[0;34m(\u001b[0m\u001b[0mraw\u001b[0m\u001b[0;34m)\u001b[0m\u001b[0;34m\u001b[0m\u001b[0;34m\u001b[0m\u001b[0m\n\u001b[0m\u001b[1;32m      8\u001b[0m     \u001b[0;31m# Deferred DataFrames can also be converted back to schema'd PCollections\u001b[0m\u001b[0;34m\u001b[0m\u001b[0;34m\u001b[0m\u001b[0;34m\u001b[0m\u001b[0m\n\u001b[1;32m      9\u001b[0m     \u001b[0mraw_beam\u001b[0m \u001b[0;34m=\u001b[0m \u001b[0mto_pcollection\u001b[0m\u001b[0;34m(\u001b[0m\u001b[0mingested\u001b[0m\u001b[0;34m,\u001b[0m \u001b[0minclude_indexes\u001b[0m\u001b[0;34m=\u001b[0m\u001b[0;32mTrue\u001b[0m\u001b[0;34m)\u001b[0m\u001b[0;34m\u001b[0m\u001b[0;34m\u001b[0m\u001b[0m\n",
      "\u001b[0;32m<ipython-input-8-6a420f8dfa0b>\u001b[0m in \u001b[0;36mraw_ingestion\u001b[0;34m(raw_data)\u001b[0m\n\u001b[1;32m      4\u001b[0m     \"\"\"\n\u001b[1;32m      5\u001b[0m     \u001b[0mprint\u001b[0m\u001b[0;34m(\u001b[0m\u001b[0mraw_data\u001b[0m\u001b[0;34m)\u001b[0m\u001b[0;34m\u001b[0m\u001b[0;34m\u001b[0m\u001b[0m\n\u001b[0;32m----> 6\u001b[0;31m     \u001b[0mraw_data\u001b[0m\u001b[0;34m[\u001b[0m\u001b[0;34m\"ADDRESS\"\u001b[0m\u001b[0;34m]\u001b[0m \u001b[0;34m=\u001b[0m \u001b[0mraw_data\u001b[0m\u001b[0;34m[\u001b[0m\u001b[0;34m\"ADDRESS\"\u001b[0m\u001b[0;34m]\u001b[0m\u001b[0;34m.\u001b[0m\u001b[0msplit\u001b[0m\u001b[0;34m(\u001b[0m\u001b[0;34m\",\"\u001b[0m\u001b[0;34m)\u001b[0m\u001b[0;34m[\u001b[0m\u001b[0;34m-\u001b[0m\u001b[0;36m1\u001b[0m\u001b[0;34m]\u001b[0m\u001b[0;34m\u001b[0m\u001b[0;34m\u001b[0m\u001b[0m\n\u001b[0m\u001b[1;32m      7\u001b[0m     \u001b[0;32mreturn\u001b[0m \u001b[0mraw_data\u001b[0m\u001b[0;34m\u001b[0m\u001b[0;34m\u001b[0m\u001b[0m\n",
      "\u001b[0;31mTypeError\u001b[0m: 'PCollection' object is not subscriptable"
     ]
    }
   ],
   "source": [
    "try: \n",
    "    tf.gfile.DeleteRecursively(TRANSFORMED_DATA_DIR)\n",
    "    tf.gfile.DeleteRecursively(TRANSFORM_ARTEFACTS_DIR)\n",
    "    tf.gfile.DeleteRecursively(TEMP_DIR)\n",
    "    print('previous transformation files deleted!')\n",
    "except:\n",
    "    pass\n",
    "\n",
    "print('Launching {} job {} ... hang on'.format(runner, job_name))\n",
    "print(\"\")\n",
    "run_transformation_pipeline(args)\n",
    "print(\"Done!\")"
   ]
  },
  {
   "cell_type": "code",
   "execution_count": null,
   "id": "organized-static",
   "metadata": {},
   "outputs": [],
   "source": []
  },
  {
   "cell_type": "code",
   "execution_count": null,
   "id": "funded-hampshire",
   "metadata": {},
   "outputs": [],
   "source": []
  },
  {
   "cell_type": "code",
   "execution_count": null,
   "id": "first-garden",
   "metadata": {},
   "outputs": [],
   "source": []
  }
 ],
 "metadata": {
  "kernelspec": {
   "display_name": "Python 3",
   "language": "python",
   "name": "python3"
  },
  "language_info": {
   "codemirror_mode": {
    "name": "ipython",
    "version": 3
   },
   "file_extension": ".py",
   "mimetype": "text/x-python",
   "name": "python",
   "nbconvert_exporter": "python",
   "pygments_lexer": "ipython3",
   "version": "3.7.9"
  }
 },
 "nbformat": 4,
 "nbformat_minor": 5
}
